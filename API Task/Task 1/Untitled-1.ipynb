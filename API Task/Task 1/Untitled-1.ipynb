{
 "cells": [
  {
   "cell_type": "markdown",
   "metadata": {},
   "source": [
    "### Collect all user info from the API link and save data in a CSV file ###"
   ]
  },
  {
   "cell_type": "code",
   "execution_count": 21,
   "metadata": {},
   "outputs": [],
   "source": [
    "import requests\n",
    "import csv\n",
    "\n",
    "r = requests.get(\"https://reqres.in/api/users\")\n",
    "\n",
    "data = r.json()"
   ]
  },
  {
   "cell_type": "code",
   "execution_count": 16,
   "metadata": {},
   "outputs": [],
   "source": [
    "with open('users.csv', 'w', newline= '') as file:\n",
    "    writer = csv.writer(file)\n",
    "    writer.writerow(['id', 'email', 'first_name','last_name', 'avatar' ])\n",
    "\n",
    "    for user in data['data']:\n",
    "        writer.writerow([user['id'], user['email'], user['first_name'], user['last_name'], user['avatar']])\n",
    "    "
   ]
  },
  {
   "cell_type": "markdown",
   "metadata": {},
   "source": [
    "### Collect data from page 2 and save data also in a CSV file ###"
   ]
  },
  {
   "cell_type": "code",
   "execution_count": 24,
   "metadata": {},
   "outputs": [],
   "source": [
    "import requests\n",
    "import csv\n",
    "\n",
    "r2 = requests.get(\"https://reqres.in/api/users/?page=2\")\n",
    "\n",
    "data2 = r2.json()"
   ]
  },
  {
   "cell_type": "code",
   "execution_count": 25,
   "metadata": {},
   "outputs": [],
   "source": [
    "with open('users2.csv', 'w', newline= '') as file:\n",
    "    writer = csv.writer(file)\n",
    "    writer.writerow(['id', 'email', 'first_name','last_name', 'avatar' ])\n",
    "\n",
    "    for user in data['data']:\n",
    "        writer.writerow([user['id'], user['email'], user['first_name'], user['last_name'], user['avatar']])"
   ]
  }
 ],
 "metadata": {
  "kernelspec": {
   "display_name": "Python 3",
   "language": "python",
   "name": "python3"
  },
  "language_info": {
   "codemirror_mode": {
    "name": "ipython",
    "version": 3
   },
   "file_extension": ".py",
   "mimetype": "text/x-python",
   "name": "python",
   "nbconvert_exporter": "python",
   "pygments_lexer": "ipython3",
   "version": "3.11.0"
  }
 },
 "nbformat": 4,
 "nbformat_minor": 2
}
